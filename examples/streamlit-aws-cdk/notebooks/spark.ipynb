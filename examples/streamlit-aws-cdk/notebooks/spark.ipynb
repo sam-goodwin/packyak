{
 "cells": [
  {
   "cell_type": "code",
   "execution_count": null,
   "metadata": {},
   "outputs": [],
   "source": [
    "# Full url of the Nessie API endpoint to nessie\n",
    "url = \"http://localhost:19120/api/v1\"\n",
    "# Where to store nessie tables\n",
    "full_path_to_warehouse = ...\n",
    "# The ref or context that nessie will operate on (if different from default branch).\n",
    "# Can be the name of a Nessie branch or tag name.\n",
    "ref = \"main\"\n",
    "# Nessie authentication type (NONE, BEARER, OAUTH2 or AWS)\n",
    "auth_type = \"NONE\"\n",
    "\n",
    "spark = SparkSession.builder \\\n",
    "        .config(\"spark.jars.packages\",\"org.apache.iceberg:iceberg-spark-runtime-3.3_2.12:1.3.0,org.projectnessie.nessie-integrations:nessie-spark-extensions-3.3_2.12:0.76.6\") \\\n",
    "        .config(\"spark.sql.extensions\", \"org.apache.iceberg.spark.extensions.IcebergSparkSessionExtensions,org.projectnessie.spark.extensions.NessieSparkSessionExtensions\") \\\n",
    "        .config(\"spark.sql.catalog.nessie.uri\", url) \\\n",
    "        .config(\"spark.sql.catalog.nessie.ref\", ref) \\\n",
    "        .config(\"spark.sql.catalog.nessie.authentication.type\", auth_type) \\\n",
    "        .config(\"spark.sql.catalog.nessie.catalog-impl\", \"org.apache.iceberg.nessie.NessieCatalog\") \\\n",
    "        .config(\"spark.sql.catalog.nessie.warehouse\", full_path_to_warehouse) \\\n",
    "        .config(\"spark.sql.catalog.nessie\", \"org.apache.iceberg.spark.SparkCatalog\") \\\n",
    "        .getOrCreate()"
   ]
  }
 ],
 "metadata": {
  "language_info": {
   "name": "python"
  }
 },
 "nbformat": 4,
 "nbformat_minor": 2
}
